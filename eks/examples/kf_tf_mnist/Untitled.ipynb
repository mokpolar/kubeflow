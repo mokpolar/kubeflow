{
 "cells": [
  {
   "cell_type": "code",
   "execution_count": 1,
   "metadata": {},
   "outputs": [],
   "source": [
    "import tensorflow as tf\n",
    "import argparse\n",
    "import os"
   ]
  },
  {
   "cell_type": "code",
   "execution_count": 2,
   "metadata": {},
   "outputs": [],
   "source": [
    "def train():\n",
    "    print(\"TensorFlow version: \", tf.__version__)\n",
    "    parser = argparse.ArgumentParser()\n",
    "    parser.add_argument('--model_path', default='/mnt/pv/models/tensorflow/mnist', type=str)\n",
    "    args = parser.parse_args()\n",
    "    version = 1\n",
    "    export_path = os.path.join(args.model_path, str(version))\n",
    "    (x_train, y_train), (x_test, y_test) = tf.keras.datasets.mnist.load_data()\n",
    "    x_train, x_test = x_train / 255.0, x_test / 255.0\n",
    "    model = tf.keras.models.Sequential([\n",
    "        tf.keras.layers.Flatten(input_shape=(28, 28)),\n",
    "        tf.keras.layers.Dense(128, activation='relu'),\n",
    "        tf.keras.layers.Dropout(0.2),\n",
    "        tf.keras.layers.Dense(10, activation='softmax')\n",
    "    ])\n",
    "    model.compile(optimizer=tf.keras.optimizers.SGD(learning_rate=0.01),\n",
    "                  loss='sparse_categorical_crossentropy',\n",
    "                  metrics=['accuracy'])\n",
    "    print(\"Training...\")\n",
    "    training_history = model.fit(x_train, y_train, batch_size=64, epochs=10,\n",
    "                                 validation_split=0.2)\n",
    "    print('\\nEvaluate on test data')\n",
    "    results = model.evaluate(x_test, y_test, batch_size=128)\n",
    "    print('test loss, test acc:', results)\n",
    "    model.save(export_path)\n",
    "    print('\"Saved model to {}'.format(export_path))"
   ]
  },
  {
   "cell_type": "code",
   "execution_count": 8,
   "metadata": {},
   "outputs": [
    {
     "name": "stdout",
     "output_type": "stream",
     "text": [
      "TensorFlow version:  2.0.0\n"
     ]
    },
    {
     "name": "stderr",
     "output_type": "stream",
     "text": [
      "usage: ipykernel_launcher.py [-h] [--model_path MODEL_PATH]\n",
      "ipykernel_launcher.py: error: unrecognized arguments: -f /Users/mokpolar/Library/Jupyter/runtime/kernel-8a2f33d1-39b9-4be4-8b98-d4ab1892d741.json\n"
     ]
    },
    {
     "ename": "SystemExit",
     "evalue": "2",
     "output_type": "error",
     "traceback": [
      "An exception has occurred, use %tb to see the full traceback.\n",
      "\u001b[0;31mSystemExit\u001b[0m\u001b[0;31m:\u001b[0m 2\n"
     ]
    },
    {
     "name": "stderr",
     "output_type": "stream",
     "text": [
      "/Users/mokpolar/opt/anaconda3/envs/tf2-py37/lib/python3.7/site-packages/IPython/core/interactiveshell.py:3327: UserWarning: To exit: use 'exit', 'quit', or Ctrl-D.\n",
      "  warn(\"To exit: use 'exit', 'quit', or Ctrl-D.\", stacklevel=1)\n"
     ]
    }
   ],
   "source": [
    "train()"
   ]
  },
  {
   "cell_type": "code",
   "execution_count": null,
   "metadata": {},
   "outputs": [],
   "source": [
    "from __future__ import absolute_import, division, print_function, unicode_literals\n",
    "import argparse\n",
    "import os\n",
    "import tensorflow as tf\n",
    "def train():\n",
    "    print(\"TensorFlow version: \", tf.__version__)\n",
    "    parser = argparse.ArgumentParser()\n",
    "    parser.add_argument('--model_path', default='/mnt/pv/models/tensorflow/mnist', type=str)\n",
    "    args = parser.parse_args()\n",
    "    version = 1\n",
    "    export_path = os.path.join(args.model_path, str(version))\n",
    "    (x_train, y_train), (x_test, y_test) = tf.keras.datasets.mnist.load_data()\n",
    "    x_train, x_test = x_train / 255.0, x_test / 255.0\n",
    "    model = tf.keras.models.Sequential([\n",
    "        tf.keras.layers.Flatten(input_shape=(28, 28)),\n",
    "        tf.keras.layers.Dense(128, activation='relu'),\n",
    "        tf.keras.layers.Dropout(0.2),\n",
    "        tf.keras.layers.Dense(10, activation='softmax')\n",
    "    ])\n",
    "    model.compile(optimizer=tf.keras.optimizers.SGD(learning_rate=0.01),\n",
    "                  loss='sparse_categorical_crossentropy',\n",
    "                  metrics=['accuracy'])\n",
    "    print(\"Training...\")\n",
    "    training_history = model.fit(x_train, y_train, batch_size=64, epochs=10,\n",
    "                                 validation_split=0.2)\n",
    "    print('\\nEvaluate on test data')\n",
    "    results = model.evaluate(x_test, y_test, batch_size=128)\n",
    "    print('test loss, test acc:', results)\n",
    "    model.save(export_path)\n",
    "    print('\"Saved model to {}'.format(export_path))\n",
    "if __name__ == '__main__':\n",
    "    train()"
   ]
  }
 ],
 "metadata": {
  "kernelspec": {
   "display_name": "Tensorflow2 Python 3.7",
   "language": "python",
   "name": "tf2-py37"
  },
  "language_info": {
   "codemirror_mode": {
    "name": "ipython",
    "version": 3
   },
   "file_extension": ".py",
   "mimetype": "text/x-python",
   "name": "python",
   "nbconvert_exporter": "python",
   "pygments_lexer": "ipython3",
   "version": "3.7.6"
  }
 },
 "nbformat": 4,
 "nbformat_minor": 2
}
