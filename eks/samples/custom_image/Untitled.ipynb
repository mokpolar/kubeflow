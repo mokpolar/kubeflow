{
 "cells": [
  {
   "cell_type": "code",
   "execution_count": 6,
   "metadata": {},
   "outputs": [],
   "source": [
    "import argparse\n",
    "import base64\n",
    "import io\n",
    "import logging\n",
    "from typing import Dict\n",
    "\n",
    "import json\n",
    "import time\n",
    "\n",
    "# pip install kfserving==0.3.0 -> dockerfile\n",
    "# pip install numpy -> dockerfile\n",
    "import numpy as np\n",
    "\n",
    "# pip install opencv-python -> dockerfile\n",
    "from PIL import Image\n",
    "from PIL import ImageFilter\n",
    "\n",
    "# for MobileNet Prediction Parsing\n",
    "from tensorflow.keras.applications.mobilenet import decode_predictions\n",
    "import tensorflow as tf"
   ]
  },
  {
   "cell_type": "code",
   "execution_count": 12,
   "metadata": {},
   "outputs": [],
   "source": []
  },
  {
   "cell_type": "code",
   "execution_count": 13,
   "metadata": {},
   "outputs": [],
   "source": []
  },
  {
   "cell_type": "code",
   "execution_count": 23,
   "metadata": {},
   "outputs": [
    {
     "name": "stdout",
     "output_type": "stream",
     "text": [
      "['lampshade', '48.34%']\n",
      "1592962241.59185 1592962243.293895 1592962243.587174 1592962245.59712\n",
      "1.70204496383667\n",
      "0.29327893257141113\n",
      "2.00994610786438\n",
      "0.0005030632019042969\n",
      "0.05605769157409668\n",
      "2.303225040435791\n"
     ]
    }
   ],
   "source": [
    "\n",
    "\n",
    "\n",
    "\n",
    "\n",
    "\n",
    "# KFServing - Transformer\n",
    "# Preprocess\n",
    "t1 = time.time()\n",
    "model = tf.keras.experimental.load_from_saved_model('./saved_models/')\n",
    "\n",
    "\n",
    "t2 = time.time()\n",
    "img = Image.open('./1mb.jpg')\n",
    "\n",
    "img = img.rotate(90).rotate(90).rotate(90).rotate(90)\n",
    "img = img.transpose(Image.FLIP_TOP_BOTTOM).transpose(Image.FLIP_TOP_BOTTOM)\n",
    "img = img.transpose(Image.FLIP_LEFT_RIGHT).transpose(Image.FLIP_LEFT_RIGHT)\n",
    "img = img.resize((224, 224))\n",
    "img = np.array(img)\n",
    "img = img/255\n",
    "img = img.reshape(-1, 224, 224, 3)\n",
    "t3 = time.time()\n",
    "\n",
    "# KFServing - Predictor\n",
    "logging.info('start predicting!')\n",
    "yhat = model.predict(img)\n",
    "\n",
    "t4 = time.time()\n",
    "\n",
    "# KFServing - Transformer\n",
    "label = decode_predictions(yhat)\n",
    "label = label[0][0]\n",
    "results = [label[1], str(round(label[2]*100, 2))+'%']\n",
    "logging.info(results)\n",
    "print(results)\n",
    "\n",
    "t5 = time.time()\n",
    "\n",
    "yhat2 = model.predict(img)\n",
    "\n",
    "t6 = time.time()\n",
    "print(t1, t2, t3, t4)\n",
    "print(t2 - t1)\n",
    "print(t3 - t2)\n",
    "print(t4 - t3)\n",
    "print(t5 - t4)\n",
    "print(t6 - t5)\n",
    "print(t4 - t2)\n"
   ]
  },
  {
   "cell_type": "code",
   "execution_count": 15,
   "metadata": {},
   "outputs": [
    {
     "name": "stdout",
     "output_type": "stream",
     "text": [
      "['Siamese_cat', '38.95%']\n",
      "4.014510154724121\n"
     ]
    }
   ],
   "source": []
  },
  {
   "cell_type": "code",
   "execution_count": 11,
   "metadata": {},
   "outputs": [
    {
     "data": {
      "text/plain": [
       "['Siamese_cat', '38.95%']"
      ]
     },
     "execution_count": 11,
     "metadata": {},
     "output_type": "execute_result"
    }
   ],
   "source": []
  },
  {
   "cell_type": "code",
   "execution_count": null,
   "metadata": {},
   "outputs": [],
   "source": []
  }
 ],
 "metadata": {
  "kernelspec": {
   "display_name": "Tensorflow2 Python 3.7",
   "language": "python",
   "name": "tf2-py37"
  },
  "language_info": {
   "codemirror_mode": {
    "name": "ipython",
    "version": 3
   },
   "file_extension": ".py",
   "mimetype": "text/x-python",
   "name": "python",
   "nbconvert_exporter": "python",
   "pygments_lexer": "ipython3",
   "version": "3.7.6"
  }
 },
 "nbformat": 4,
 "nbformat_minor": 2
}
