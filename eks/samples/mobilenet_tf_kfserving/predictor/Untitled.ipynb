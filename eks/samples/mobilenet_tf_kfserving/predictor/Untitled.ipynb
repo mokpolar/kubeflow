{
 "cells": [
  {
   "cell_type": "code",
   "execution_count": 1,
   "metadata": {},
   "outputs": [],
   "source": [
    "import argparse\n",
    "import base64\n",
    "import io\n",
    "import logging\n",
    "from typing import Dict\n",
    "\n",
    "#import kfserving\n",
    "import numpy as np\n",
    "import torch\n",
    "import torchvision.transforms as transforms\n",
    "from PIL import Image\n",
    "import json\n",
    "from typing import Dict"
   ]
  },
  {
   "cell_type": "code",
   "execution_count": 2,
   "metadata": {},
   "outputs": [],
   "source": [
    "def image_transform(instance):\n",
    "    byte_array = base64.b64decode(instance['image']['b64'])\n",
    "    image = Image.open(io.BytesIO(byte_array))\n",
    "    im = Image.fromarray(np.asarray(image))\n",
    "    #print(im)\n",
    "    res = transform(im)\n",
    "    #print(res)\n",
    "    logging.info(res)\n",
    "    print(res.shape)\n",
    "    #print(res.tolist())\n",
    "    return res.tolist()"
   ]
  },
  {
   "cell_type": "markdown",
   "metadata": {},
   "source": [
    "* 아 이건 이미지를 줄여서 압축하고 안하고의 차이구나"
   ]
  },
  {
   "cell_type": "code",
   "execution_count": 3,
   "metadata": {},
   "outputs": [],
   "source": [
    "transform = transforms.Compose([\n",
    "    transforms.Resize(32),\n",
    "    transforms.CenterCrop(32),\n",
    "    transforms.ToTensor(),\n",
    "    transforms.Normalize((0.5, 0.5, 0.5), (0.5, 0.5, 0.5))])"
   ]
  },
  {
   "cell_type": "code",
   "execution_count": 4,
   "metadata": {},
   "outputs": [],
   "source": [
    "CLASSES = ['airplane', 'automobile', 'bird', 'cat', 'deer', 'dog', 'frog', 'horse', 'ship', 'truck']\n",
    "\n",
    "\n",
    "def top_5(prediction):\n",
    "    pred = torch.as_tensor(prediction)\n",
    "    scores = torch.nn.functional.softmax(pred, dim=0)\n",
    "\n",
    "    _, top_5 = torch.topk(pred, 5)\n",
    "\n",
    "    results = {}\n",
    "    for idx in top_5:\n",
    "        results[CLASSES[idx]] = scores[idx].item()\n",
    "\n",
    "    return results"
   ]
  },
  {
   "cell_type": "code",
   "execution_count": 5,
   "metadata": {},
   "outputs": [],
   "source": [
    "def preprocess(inputs: Dict) -> Dict:\n",
    "        return {'instances': [image_transform(instance) for instance in inputs['instances']]}"
   ]
  },
  {
   "cell_type": "code",
   "execution_count": 6,
   "metadata": {},
   "outputs": [],
   "source": [
    "with open('cat.json') as json_file:\n",
    "    json_data = json.load(json_file)"
   ]
  },
  {
   "cell_type": "code",
   "execution_count": 7,
   "metadata": {},
   "outputs": [],
   "source": [
    "import io\n",
    "import os"
   ]
  },
  {
   "cell_type": "markdown",
   "metadata": {},
   "source": [
    "PIL 과 torch.Tensor의 차이니까\n",
    "PIL을 한번 바꿔주면 될듯 인식 가능한걸로 "
   ]
  },
  {
   "cell_type": "code",
   "execution_count": 8,
   "metadata": {
    "scrolled": true
   },
   "outputs": [
    {
     "name": "stdout",
     "output_type": "stream",
     "text": [
      "torch.Size([3, 32, 32])\n"
     ]
    }
   ],
   "source": [
    "a = preprocess(json_data)"
   ]
  },
  {
   "cell_type": "code",
   "execution_count": null,
   "metadata": {},
   "outputs": [],
   "source": []
  },
  {
   "cell_type": "code",
   "execution_count": null,
   "metadata": {},
   "outputs": [],
   "source": []
  },
  {
   "cell_type": "code",
   "execution_count": null,
   "metadata": {},
   "outputs": [],
   "source": [
    "\n",
    "logging.basicConfig(level=kfserving.constants.KFSERVING_LOGLEVEL)\n",
    "\n",
    "transform = transforms.Compose([\n",
    "    transforms.Resize(32),\n",
    "    transforms.CenterCrop(32),\n",
    "    transforms.ToTensor(),\n",
    "    transforms.Normalize((0.5, 0.5, 0.5), (0.5, 0.5, 0.5))])\n",
    "\n",
    "\n",
    "def image_transform(instance):\n",
    "    byte_array = base64.b64decode(instance['image']['b64'])\n",
    "    image = Image.open(io.BytesIO(byte_array))\n",
    "    im = Image.fromarray(np.asarray(image))\n",
    "    res = transform(im)\n",
    "    logging.info(res)\n",
    "    return res.tolist()\n",
    "\n",
    "\n",
    "CLASSES = ['airplane', 'automobile', 'bird', 'cat', 'deer', 'dog', 'frog', 'horse', 'ship', 'truck']\n",
    "\n",
    "\n",
    "def top_5(prediction):\n",
    "    pred = torch.as_tensor(prediction)\n",
    "    scores = torch.nn.functional.softmax(pred, dim=0)\n",
    "\n",
    "    _, top_5 = torch.topk(pred, 5)\n",
    "\n",
    "    results = {}\n",
    "    for idx in top_5:\n",
    "        results[CLASSES[idx]] = scores[idx].item()\n",
    "\n",
    "    return results\n",
    "\n",
    "\n",
    "class ImageTransformer(kfserving.KFModel):\n",
    "    def __init__(self, name: str, predictor_host: str):\n",
    "        super().__init__(name)\n",
    "        self.predictor_host = predictor_host\n",
    "\n",
    "    def preprocess(self, inputs: Dict) -> Dict:\n",
    "        return {'instances': [image_transform(instance) for instance in inputs['instances']]}\n",
    "\n",
    "    def postprocess(self, inputs: Dict) -> Dict:\n",
    "        return {'predictions': [top_5(prediction) for prediction in inputs['predictions']]}\n",
    "\n",
    "\n",
    "if __name__ == \"__main__\":\n",
    "    DEFAULT_MODEL_NAME = \"model\"\n",
    "\n",
    "    parser = argparse.ArgumentParser(parents=[kfserving.kfserver.parser])\n",
    "    parser.add_argument('--model_name', default=DEFAULT_MODEL_NAME,\n",
    "                        help='The name that the model is served under.')\n",
    "    parser.add_argument('--predictor_host', help='The URL for the model predict function', required=True)\n",
    "\n",
    "    args, _ = parser.parse_known_args()\n",
    "\n",
    "    transformer = ImageTransformer(args.model_name, predictor_host=args.predictor_host)\n",
    "    kfserver = kfserving.KFServer()\n",
    "    kfserver.start(models=[transformer])\n"
   ]
  }
 ],
 "metadata": {
  "kernelspec": {
   "display_name": "PyTorch Python 3.6",
   "language": "python",
   "name": "pt-py36"
  },
  "language_info": {
   "codemirror_mode": {
    "name": "ipython",
    "version": 3
   },
   "file_extension": ".py",
   "mimetype": "text/x-python",
   "name": "python",
   "nbconvert_exporter": "python",
   "pygments_lexer": "ipython3",
   "version": "3.6.10"
  }
 },
 "nbformat": 4,
 "nbformat_minor": 2
}
