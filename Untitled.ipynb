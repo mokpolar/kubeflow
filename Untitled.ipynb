{
 "cells": [
  {
   "cell_type": "code",
   "execution_count": 10,
   "metadata": {},
   "outputs": [],
   "source": [
    "import tensorflow as tf\n",
    "import tensorflow.keras as keras\n",
    "import tensorflow.keras.layers as L\n",
    "import tensorflow.keras.models as M\n",
    "import tensorflow.keras.backend as K\n",
    "from tensorflow.keras.applications import DenseNet121"
   ]
  },
  {
   "cell_type": "code",
   "execution_count": 11,
   "metadata": {},
   "outputs": [
    {
     "data": {
      "text/plain": [
       "<module 'tensorflow_core.keras.models' from '/Users/mokpolar/opt/anaconda3/envs/tf2-py37/lib/python3.7/site-packages/tensorflow_core/python/keras/api/_v2/keras/models/__init__.py'>"
      ]
     },
     "execution_count": 11,
     "metadata": {},
     "output_type": "execute_result"
    }
   ],
   "source": [
    "M.mo"
   ]
  },
  {
   "cell_type": "code",
   "execution_count": 15,
   "metadata": {},
   "outputs": [],
   "source": [
    "from model_definition_helper import *"
   ]
  },
  {
   "cell_type": "code",
   "execution_count": 3,
   "metadata": {},
   "outputs": [],
   "source": [
    "import tensorflow as tf"
   ]
  },
  {
   "cell_type": "code",
   "execution_count": 4,
   "metadata": {},
   "outputs": [
    {
     "data": {
      "text/plain": [
       "'2.0.0'"
      ]
     },
     "execution_count": 4,
     "metadata": {},
     "output_type": "execute_result"
    }
   ],
   "source": [
    "tf.__version__"
   ]
  },
  {
   "cell_type": "code",
   "execution_count": 19,
   "metadata": {},
   "outputs": [],
   "source": [
    "\n",
    "def UNet():\n",
    "    \n",
    "    ### INput\n",
    "    input_shape = [512,512,1]\n",
    "    ph_input = keras.layers.Input(shape=input_shape, name=\"input\", dtype=\"float32\",)\n",
    "    latent_c = 512\n",
    "\n",
    "    ##### encoder\n",
    "    zs = []\n",
    "    z = ph_input * 2.0 - 1.0  # 512\n",
    "\n",
    "    z = conv2d(z, 16, 5, (4, 4))  # 128\n",
    "    z = conv2d(swish(gn(z,16)), 32, 3)\n",
    "    z = R_block(z,0,gn)\n",
    "\n",
    "    z = S_block(z, 48, lambda x:gn(x,24))  # 64\n",
    "    z = R_block(z,0, lambda x:gn(x,24))\n",
    "\n",
    "    z = S_block(z, 64, gn)  # 32\n",
    "    z = R_block(z,0,gn)\n",
    "\n",
    "    z = S_block(z, 128, gn)  # 16\n",
    "    z = R_block(z,0,gn)\n",
    "\n",
    "    z = S_block(z, 256, gn)  # 8\n",
    "    z = R_block(z,0,gn)\n",
    "\n",
    "    z = conv2d(swish(gn(z)), 512, 8, (8,8)) # turn to flat stage\n",
    "\n",
    "    z_mean    = conv2d(swish(gn(z)), latent_c, 1)\n",
    "    z_log_var = conv2d(swish(gn(z)), latent_c, 1)\n",
    "\n",
    "    # sampling\n",
    "    from tensorflow.keras.layers import Lambda\n",
    "    _,H,W,C = z_mean.shape.as_list()\n",
    "    z_latent = Lambda(sampling, output_shape=(H,W,C), name='latent')([z_mean,z_log_var])\n",
    "\n",
    "    encoder = keras.Model(inputs=ph_input, \n",
    "                          outputs=[z_latent, z_mean, z_log_var],\n",
    "                          name='encoder')\n",
    "\n",
    "\n",
    "\n",
    "    ##### decoder\n",
    "    dec_input_shape = z_latent.shape.as_list()[1:]\n",
    "    dec_input = keras.layers.Input(shape=dec_input_shape, name=\"dec_input\", dtype=\"float32\",)\n",
    "\n",
    "    # mapping stage\n",
    "    z = conv2d(dec_input, 512, 1)\n",
    "    p = z\n",
    "    z = conv2d(swish(gn(z)), 512, 1)\n",
    "    z = conv2d(swish(gn(z)), 512, 1)\n",
    "    z = z+p\n",
    "    p = z\n",
    "    z = conv2d(swish(gn(z)), 512, 1)\n",
    "    z = conv2d(swish(gn(z)), 512, 1)\n",
    "    z = z+p\n",
    "    p = z\n",
    "    z = conv2d(swish(gn(z)), 512, 1)\n",
    "    z = conv2d(swish(gn(z)), 512, 1)\n",
    "    z = z+p\n",
    "    p = z\n",
    "\n",
    "    z = conv2d(swish(gn(z)), 8*8*256, 1) # turn to conv stage\n",
    "    z = tf.reshape(z,[-1,8,8,256])   # 8\n",
    "\n",
    "    z = R_block(z, 256, gn)\n",
    "    z = R_block(z, 256, gn)\n",
    "\n",
    "    z = upsample(z, 2)  # 16\n",
    "    z = R_block(z, 128,gn)\n",
    "    z = R_block(z, 128,gn)\n",
    "\n",
    "    z = upsample(z, 2)  # 32\n",
    "    z = R_block(z, 64,gn)\n",
    "    z = R_block(z, 64,gn)\n",
    "\n",
    "    z = upsample(z, 2)  # 64\n",
    "    z = R_block(z, 48,lambda x:gn(x,24))\n",
    "    z = R_block(z, 48,lambda x:gn(x,24))\n",
    "\n",
    "    z = upsample(z, 2)  # 128\n",
    "    z = R_block(z, 32, gn)\n",
    "    z = R_block(z, 1, gn)\n",
    "\n",
    "\n",
    "    z = upsample(z, 4)  # 256\n",
    "    z = R_block(z, 1, gn)\n",
    "    z_image = R_block(z, 1)\n",
    "    z = tf.sigmoid(z) #해도되고 안해도되고.\n",
    "\n",
    "    decoder = keras.Model(inputs=dec_input, outputs=z_image, name='decoder')\n",
    "\n",
    "    z_image = decoder(encoder(ph_input)[0])\n",
    "    model = keras.Model(inputs=ph_input, outputs=z_image)\n",
    "\n",
    "    return model\n",
    "\n",
    "\n",
    "\n"
   ]
  },
  {
   "cell_type": "code",
   "execution_count": 22,
   "metadata": {},
   "outputs": [],
   "source": [
    "model = UNet()"
   ]
  },
  {
   "cell_type": "code",
   "execution_count": 26,
   "metadata": {},
   "outputs": [],
   "source": [
    "saved_model_path = \"./saved_models/\""
   ]
  },
  {
   "cell_type": "code",
   "execution_count": 28,
   "metadata": {},
   "outputs": [
    {
     "name": "stdout",
     "output_type": "stream",
     "text": [
      "WARNING:tensorflow:Inconsistent references when loading the checkpoint into this object graph. Either the Trackable object references in the Python program have changed in an incompatible way, or the checkpoint was generated in an incompatible program.\n",
      "\n",
      "Two checkpoint references resolved to different objects (<tensorflow.python.keras.engine.input_layer.InputLayer object at 0x670297410> and <tensorflow.python.keras.engine.input_layer.InputLayer object at 0x670299c90>).\n",
      "INFO:tensorflow:Signatures INCLUDED in export for Classify: None\n",
      "INFO:tensorflow:Signatures INCLUDED in export for Regress: None\n",
      "INFO:tensorflow:Signatures INCLUDED in export for Predict: ['serving_default']\n",
      "INFO:tensorflow:Signatures INCLUDED in export for Train: None\n",
      "INFO:tensorflow:Signatures INCLUDED in export for Eval: None\n",
      "INFO:tensorflow:No assets to save.\n",
      "INFO:tensorflow:No assets to write.\n",
      "INFO:tensorflow:SavedModel written to: ./saved_models/saved_model.pb\n"
     ]
    }
   ],
   "source": [
    "tf.keras.experimental.export_saved_model(model, saved_model_path)"
   ]
  },
  {
   "cell_type": "code",
   "execution_count": null,
   "metadata": {},
   "outputs": [],
   "source": []
  }
 ],
 "metadata": {
  "kernelspec": {
   "display_name": "Tensorflow2 Python 3.7",
   "language": "python",
   "name": "tf2-py37"
  },
  "language_info": {
   "codemirror_mode": {
    "name": "ipython",
    "version": 3
   },
   "file_extension": ".py",
   "mimetype": "text/x-python",
   "name": "python",
   "nbconvert_exporter": "python",
   "pygments_lexer": "ipython3",
   "version": "3.7.6"
  }
 },
 "nbformat": 4,
 "nbformat_minor": 2
}
